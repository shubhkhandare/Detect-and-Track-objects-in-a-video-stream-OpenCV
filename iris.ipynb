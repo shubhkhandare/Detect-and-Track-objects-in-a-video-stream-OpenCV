{
  "cells": [
    {
      "cell_type": "markdown",
      "metadata": {
        "id": "view-in-github",
        "colab_type": "text"
      },
      "source": [
        "<a href=\"https://colab.research.google.com/github/shubhkhandare/Detect-and-Track-objects-in-a-video-stream-OpenCV/blob/main/iris.ipynb\" target=\"_parent\"><img src=\"https://colab.research.google.com/assets/colab-badge.svg\" alt=\"Open In Colab\"/></a>"
      ]
    },
    {
      "cell_type": "code",
      "execution_count": null,
      "metadata": {
        "id": "UyRPyohLODB1"
      },
      "outputs": [],
      "source": [
        "import numpy as np\n",
        "import matplotlib as plt\n",
        "from sklearn import datasets, linear_model\n",
        "import pandas as pd\n",
        "import seaborn as sns\n",
        "import tensorflow as tf\n",
        "from tensorflow import keras\n",
        "from sklearn.model_selection import train_test_split\n"
      ]
    },
    {
      "cell_type": "code",
      "execution_count": null,
      "metadata": {
        "id": "zbTIoVAQORtA"
      },
      "outputs": [],
      "source": [
        "iris_data = pd.read_csv(\"iris.csv\")"
      ]
    },
    {
      "cell_type": "code",
      "execution_count": null,
      "metadata": {
        "colab": {
          "base_uri": "https://localhost:8080/"
        },
        "id": "CBtrIf1AOiAJ",
        "outputId": "29289b38-522d-4fc7-cea5-9e8ec478d615"
      },
      "outputs": [
        {
          "name": "stdout",
          "output_type": "stream",
          "text": [
            "\n",
            "Loaded Data : \n",
            "----------------------\n",
            "   Sepal.Length  Sepal.Width  Petal.Length  Petal.Width Species\n",
            "0           5.1          3.5           1.4          0.2  setosa\n",
            "1           4.9          3.0           1.4          0.2  setosa\n",
            "2           4.7          3.2           1.3          0.2  setosa\n",
            "3           4.6          3.1           1.5          0.2  setosa\n",
            "4           5.0          3.6           1.4          0.2  setosa\n"
          ]
        }
      ],
      "source": [
        "print(\"\\nLoaded Data : \\n----------------------\")\n",
        "print(iris_data.head())"
      ]
    },
    {
      "cell_type": "markdown",
      "metadata": {
        "id": "0k-xCg4NP8xK"
      },
      "source": [
        "USE a label encoder to convert string to numeric value"
      ]
    },
    {
      "cell_type": "code",
      "execution_count": null,
      "metadata": {
        "id": "uM3v60SRPLL_"
      },
      "outputs": [],
      "source": [
        "from sklearn import preprocessing\n",
        "label_encoder = preprocessing.LabelEncoder()\n",
        "iris_data['Species'] = label_encoder.fit_transform(iris_data['Species'])"
      ]
    },
    {
      "cell_type": "markdown",
      "metadata": {
        "id": "uVSYg550QsMc"
      },
      "source": [
        "conver input to numpy array"
      ]
    },
    {
      "cell_type": "code",
      "execution_count": null,
      "metadata": {
        "id": "aeGd9o3DPHzb"
      },
      "outputs": [],
      "source": [
        "np_iris = iris_data.to_numpy()"
      ]
    },
    {
      "cell_type": "markdown",
      "metadata": {
        "id": "HaZAHTcBRxgf"
      },
      "source": [
        "seprate feature and target variable"
      ]
    },
    {
      "cell_type": "code",
      "execution_count": null,
      "metadata": {
        "id": "RbICD9E5Snrl"
      },
      "outputs": [],
      "source": [
        "x_data = np_iris[:,0:4]\n",
        "y_data = np_iris[:,4]"
      ]
    },
    {
      "cell_type": "code",
      "execution_count": null,
      "metadata": {
        "colab": {
          "base_uri": "https://localhost:8080/"
        },
        "id": "1hBeMeGcS_Yy",
        "outputId": "50b33d17-7f36-48b1-c0d5-2617c3c5a7d2"
      },
      "outputs": [
        {
          "name": "stdout",
          "output_type": "stream",
          "text": [
            "[[5.1 3.5 1.4 0.2]\n",
            " [4.9 3.  1.4 0.2]\n",
            " [4.7 3.2 1.3 0.2]\n",
            " [4.6 3.1 1.5 0.2]\n",
            " [5.  3.6 1.4 0.2]]\n",
            "[0. 0. 0. 0. 0.]\n"
          ]
        }
      ],
      "source": [
        "\n",
        "print(x_data[:5,:])\n",
        "print(y_data[:5])"
      ]
    },
    {
      "cell_type": "markdown",
      "metadata": {
        "id": "AHqMUURVUXQy"
      },
      "source": [
        "scaler model that is fit on the ip data"
      ]
    },
    {
      "cell_type": "code",
      "execution_count": null,
      "metadata": {
        "id": "HRC2YRHCUWW7"
      },
      "outputs": [],
      "source": [
        "scaler = preprocessing.StandardScaler().fit(x_data)\n",
        "x_data = scaler.transform(x_data)"
      ]
    },
    {
      "cell_type": "markdown",
      "metadata": {
        "id": "a_xmgtvNWmao"
      },
      "source": [
        "covert target variable as a one-hot-encoding arry"
      ]
    },
    {
      "cell_type": "code",
      "execution_count": null,
      "metadata": {
        "id": "5w3YIjjbW5i3"
      },
      "outputs": [],
      "source": [
        "y_data = tf.keras.utils.to_categorical(y_data,3)"
      ]
    },
    {
      "cell_type": "code",
      "execution_count": null,
      "metadata": {
        "colab": {
          "base_uri": "https://localhost:8080/"
        },
        "id": "CuQGULRyXrvL",
        "outputId": "aceaecaa-1606-4a22-e57a-b47e3c561a27"
      },
      "outputs": [
        {
          "name": "stdout",
          "output_type": "stream",
          "text": [
            "[[-0.90068117  1.01900435 -1.34022653 -1.3154443 ]\n",
            " [-1.14301691 -0.13197948 -1.34022653 -1.3154443 ]\n",
            " [-1.38535265  0.32841405 -1.39706395 -1.3154443 ]\n",
            " [-1.50652052  0.09821729 -1.2833891  -1.3154443 ]\n",
            " [-1.02184904  1.24920112 -1.34022653 -1.3154443 ]]\n",
            "[[1. 0. 0.]\n",
            " [1. 0. 0.]\n",
            " [1. 0. 0.]\n",
            " [1. 0. 0.]\n",
            " [1. 0. 0.]]\n"
          ]
        }
      ],
      "source": [
        "print(x_data[:5,:])\n",
        "print(y_data[:5,:])"
      ]
    },
    {
      "cell_type": "markdown",
      "metadata": {
        "id": "sN4fGy8nX5_y"
      },
      "source": [
        "**bold text**Spliting test data and train data"
      ]
    },
    {
      "cell_type": "markdown",
      "metadata": {
        "id": "M-U2o5z8YEcA"
      },
      "source": []
    },
    {
      "cell_type": "markdown",
      "metadata": {
        "id": "JcdA5_QUYWHL"
      },
      "source": []
    },
    {
      "cell_type": "code",
      "execution_count": null,
      "metadata": {
        "id": "t25sGD9QYW3N"
      },
      "outputs": [],
      "source": [
        "x_train, x_test, y_train, y_test= train_test_split(x_data, y_data, test_size=0.10)"
      ]
    },
    {
      "cell_type": "code",
      "execution_count": null,
      "metadata": {
        "colab": {
          "base_uri": "https://localhost:8080/"
        },
        "id": "Vwcjg3vkaQtS",
        "outputId": "5cdd342e-94c4-40c5-e26e-31be05a8faf3"
      },
      "outputs": [
        {
          "name": "stdout",
          "output_type": "stream",
          "text": [
            "(135, 4) (135, 3) (15, 4) (15, 3)\n"
          ]
        }
      ],
      "source": [
        "print(x_train.shape, y_train.shape, x_test.shape, y_test.shape)"
      ]
    },
    {
      "cell_type": "code",
      "execution_count": null,
      "metadata": {
        "colab": {
          "base_uri": "https://localhost:8080/"
        },
        "id": "D-pvwCY1yi-G",
        "outputId": "feb9b864-d234-4e0e-c92b-3c645268e401"
      },
      "outputs": [
        {
          "name": "stdout",
          "output_type": "stream",
          "text": [
            "Model: \"sequential\"\n",
            "_________________________________________________________________\n",
            " Layer (type)                Output Shape              Param #   \n",
            "=================================================================\n",
            " Hidden-Layer-1 (Dense)      (None, 128)               640       \n",
            "                                                                 \n",
            " Hidden-Layer-2 (Dense)      (None, 128)               16512     \n",
            "                                                                 \n",
            " Output_Layer (Dense)        (None, 3)                 387       \n",
            "                                                                 \n",
            "=================================================================\n",
            "Total params: 17539 (68.51 KB)\n",
            "Trainable params: 17539 (68.51 KB)\n",
            "Non-trainable params: 0 (0.00 Byte)\n",
            "_________________________________________________________________\n"
          ]
        }
      ],
      "source": [
        "model.summary()"
      ]
    },
    {
      "cell_type": "markdown",
      "metadata": {
        "id": "WLDi6ndtbNrY"
      },
      "source": [
        "Creating MODEl"
      ]
    },
    {
      "cell_type": "code",
      "execution_count": null,
      "metadata": {
        "id": "HXAOJVb9bU-Y"
      },
      "outputs": [],
      "source": [
        "NB_CLASSES=3"
      ]
    },
    {
      "cell_type": "markdown",
      "metadata": {
        "id": "JKsvQpdZsLdj"
      },
      "source": [
        "**CREATING SEQUENTIAL MODEL**"
      ]
    },
    {
      "cell_type": "code",
      "execution_count": null,
      "metadata": {
        "id": "jQExeKQpr7Ho"
      },
      "outputs": [],
      "source": [
        "model = tf.keras.models.Sequential()"
      ]
    },
    {
      "cell_type": "markdown",
      "metadata": {
        "id": "2Wa-_n4_scdm"
      },
      "source": [
        "**LAYERS**"
      ]
    },
    {
      "cell_type": "code",
      "execution_count": null,
      "metadata": {
        "id": "D6eCFjx2yptT"
      },
      "outputs": [],
      "source": [
        "model.add(keras.layers.Dense(128, input_shape=(4,), name='Hidden-Layer-1', activation='relu'))\n",
        "model.add(keras.layers.Dense(128, input_shape=(4,), name='Hidden-Layer-2', activation='relu'))\n",
        "model.add(keras.layers.Dense(NB_CLASSES, input_shape=(4,), name='Output_Layer', activation='softmax'))\n",
        "\n"
      ]
    },
    {
      "cell_type": "markdown",
      "metadata": {
        "id": "vTNmdPtUvo_c"
      },
      "source": [
        "**COMPILE**"
      ]
    },
    {
      "cell_type": "code",
      "execution_count": null,
      "metadata": {
        "colab": {
          "base_uri": "https://localhost:8080/"
        },
        "id": "n6f6LPtAvt7s",
        "outputId": "dce263ba-d91a-4497-9195-c7c9cf046670"
      },
      "outputs": [
        {
          "name": "stdout",
          "output_type": "stream",
          "text": [
            "Model: \"sequential\"\n",
            "_________________________________________________________________\n",
            " Layer (type)                Output Shape              Param #   \n",
            "=================================================================\n",
            " Hidden-Layer-1 (Dense)      (None, 128)               640       \n",
            "                                                                 \n",
            " Hidden-Layer-2 (Dense)      (None, 128)               16512     \n",
            "                                                                 \n",
            " Output_Layer (Dense)        (None, 3)                 387       \n",
            "                                                                 \n",
            "=================================================================\n",
            "Total params: 17539 (68.51 KB)\n",
            "Trainable params: 17539 (68.51 KB)\n",
            "Non-trainable params: 0 (0.00 Byte)\n",
            "_________________________________________________________________\n"
          ]
        }
      ],
      "source": [
        "model.compile(loss='categorical_crossentropy', metrics=['accuracy'])\n",
        "model.summary()"
      ]
    },
    {
      "cell_type": "markdown",
      "metadata": {
        "id": "vIOk_t9YSBcp"
      },
      "source": [
        "**TRAINING AND ECALUTION**"
      ]
    },
    {
      "cell_type": "code",
      "execution_count": null,
      "metadata": {
        "colab": {
          "base_uri": "https://localhost:8080/"
        },
        "id": "tScYCPTXSHD6",
        "outputId": "c1f37265-5c13-4daf-d6ee-ebc0ede97d02"
      },
      "outputs": [
        {
          "name": "stdout",
          "output_type": "stream",
          "text": [
            "Epoch 1/10\n",
            "7/7 [==============================] - 1s 37ms/step - loss: 0.1542 - accuracy: 0.9722 - val_loss: 0.2288 - val_accuracy: 0.8519\n",
            "Epoch 2/10\n",
            "7/7 [==============================] - 0s 10ms/step - loss: 0.1324 - accuracy: 0.9352 - val_loss: 0.1921 - val_accuracy: 0.9259\n",
            "Epoch 3/10\n",
            "7/7 [==============================] - 0s 10ms/step - loss: 0.1232 - accuracy: 0.9630 - val_loss: 0.1891 - val_accuracy: 0.9259\n",
            "Epoch 4/10\n",
            "7/7 [==============================] - 0s 8ms/step - loss: 0.1114 - accuracy: 0.9722 - val_loss: 0.1840 - val_accuracy: 0.9259\n",
            "Epoch 5/10\n",
            "7/7 [==============================] - 0s 8ms/step - loss: 0.1035 - accuracy: 0.9722 - val_loss: 0.1861 - val_accuracy: 0.9259\n",
            "Epoch 6/10\n",
            "7/7 [==============================] - 0s 11ms/step - loss: 0.0914 - accuracy: 0.9722 - val_loss: 0.1962 - val_accuracy: 0.9259\n",
            "Epoch 7/10\n",
            "7/7 [==============================] - 0s 7ms/step - loss: 0.0902 - accuracy: 0.9722 - val_loss: 0.1876 - val_accuracy: 0.9259\n",
            "Epoch 8/10\n",
            "7/7 [==============================] - 0s 10ms/step - loss: 0.0794 - accuracy: 0.9815 - val_loss: 0.1840 - val_accuracy: 0.9259\n",
            "Epoch 9/10\n",
            "7/7 [==============================] - 0s 8ms/step - loss: 0.0813 - accuracy: 0.9815 - val_loss: 0.1898 - val_accuracy: 0.9259\n",
            "Epoch 10/10\n",
            "7/7 [==============================] - 0s 10ms/step - loss: 0.0722 - accuracy: 0.9815 - val_loss: 0.1874 - val_accuracy: 0.9259\n"
          ]
        }
      ],
      "source": [
        "VERBOSE=1\n",
        "BATCH_SIZE=16\n",
        "EPOCHS=10\n",
        "VALIDATON_SPLIT= 0.2\n",
        "\n",
        "history =model.fit(x_train, y_train, batch_size=BATCH_SIZE, epochs=EPOCHS, validation_split=VALIDATION_SPLIT)\n",
        "\n",
        "\n"
      ]
    },
    {
      "cell_type": "code",
      "execution_count": null,
      "metadata": {
        "id": "Gu93X8imTHcF"
      },
      "outputs": [],
      "source": [
        "import matplotlib.pyplot as plt\n"
      ]
    },
    {
      "cell_type": "code",
      "execution_count": null,
      "metadata": {
        "colab": {
          "base_uri": "https://localhost:8080/",
          "height": 503
        },
        "id": "wk80uohiTOEb",
        "outputId": "588963d1-0d53-489c-cbf7-9529d2ad8175"
      },
      "outputs": [
        {
          "data": {
            "image/png": "[encoded data removed]",
            "text/plain": [
              "<Figure size 800x500 with 1 Axes>"
            ]
          },
          "metadata": {},
          "output_type": "display_data"
        },
        {
          "name": "stdout",
          "output_type": "stream",
          "text": [
            "1/1 [==============================] - 0s 26ms/step - loss: 0.1311 - accuracy: 0.9333\n"
          ]
        },
        {
          "data": {
            "text/plain": [
              "[0.1310785561800003, 0.9333333373069763]"
            ]
          },
          "execution_count": 32,
          "metadata": {},
          "output_type": "execute_result"
        }
      ],
      "source": [
        "pd.DataFrame(history.history)[\"accuracy\"].plot(figsize=(8,5))\n",
        "plt.title(\"Accuracy Improvement with epochs\")\n",
        "plt.show()\n",
        "model.evaluate(x_test, y_test)"
      ]
    },
    {
      "cell_type": "markdown",
      "metadata": {
        "id": "kjiD3ZO0UhL7"
      },
      "source": [
        "** SAVING MODELS **"
      ]
    },
    {
      "cell_type": "code",
      "execution_count": null,
      "metadata": {
        "colab": {
          "background_save": true
        },
        "id": "7PdLjJlxUlD0",
        "outputId": "cf824274-af78-4303-c32a-d9fc03957943"
      },
      "outputs": [
        {
          "ename": "NameError",
          "evalue": "ignored",
          "output_type": "error",
          "traceback": [
            "\u001b[0;31m---------------------------------------------------------------------------\u001b[0m",
            "\u001b[0;31mNameError\u001b[0m                                 Traceback (most recent call last)",
            "\u001b[0;32m<ipython-input-33-7ae42cb61ddd>\u001b[0m in \u001b[0;36m<cell line: 1>\u001b[0;34m()\u001b[0m\n\u001b[0;32m----> 1\u001b[0;31m \u001b[0mmodel\u001b[0m\u001b[0;34m.\u001b[0m\u001b[0msave\u001b[0m\u001b[0;34m(\u001b[0m\u001b[0miris_save\u001b[0m\u001b[0;34m)\u001b[0m\u001b[0;34m\u001b[0m\u001b[0;34m\u001b[0m\u001b[0m\n\u001b[0m",
            "\u001b[0;31mNameError\u001b[0m: name 'iris_save' is not defined"
          ]
        }
      ],
      "source": [
        "model.save(\"iris_save\")\n",
        "loaded_model= keras.models.load_model(\"iris_save\")\n",
        "loaded_model.summary()"
      ]
    }
  ],
  "metadata": {
    "colab": {
      "provenance": [],
      "authorship_tag": "ABX9TyPuv7MwOHq+NKJw6siUyXX1",
      "include_colab_link": true
    },
    "kernelspec": {
      "display_name": "Python 3",
      "name": "python3"
    },
    "language_info": {
      "name": "python"
    }
  },
  "nbformat": 4,
  "nbformat_minor": 0
}